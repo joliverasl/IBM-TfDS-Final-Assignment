{
  "metadata": {
    "kernelspec": {
      "name": "python",
      "display_name": "Python (Pyodide)",
      "language": "python"
    },
    "language_info": {
      "codemirror_mode": {
        "name": "python",
        "version": 3
      },
      "file_extension": ".py",
      "mimetype": "text/x-python",
      "name": "python",
      "nbconvert_exporter": "python",
      "pygments_lexer": "ipython3",
      "version": "3.8"
    }
  },
  "nbformat_minor": 4,
  "nbformat": 4,
  "cells": [
    {
      "cell_type": "markdown",
      "source": "# Data Science Tools and Ecosystem",
      "metadata": {}
    },
    {
      "cell_type": "markdown",
      "source": "In this notebook, Data Science tools and ecosystem are summarized.",
      "metadata": {}
    },
    {
      "cell_type": "markdown",
      "source": "**Objectives:**\n- List popular languages for Data Science\n- List commonly used libraries for Data Science\n- List Data Science tools\n- Evaluate arithmetic expressions in python\n- Use Jupyter notebooks",
      "metadata": {}
    },
    {
      "cell_type": "markdown",
      "source": "Some of the popular languages that data scientists use are:\n1. Python\n2. R\n3. SQL\n4. Julia\n5. Java\n6. Scala\n7. MATLAB\n8. SAS\n9. C++\n10. JavaScript",
      "metadata": {}
    },
    {
      "cell_type": "markdown",
      "source": "Some of the commonly used libraries used by data scientists include:\n1. NumPy (Python, Numerical Computing)\n2. Pandas (Python, Data Manipulation)\n3. Scikit-learn (Python, Machine Learning)\n4. ggplot2 (R, Data Visualization)\n5. TensorFlow (Python, Deep Learning)\n6. Matplotlib (Python, Data Visualization)\n7. dplyr (R, Data Manipulation)\n8. XGBoost (Python/R, Gradient Boosting for ML)\n9. Seaborn (Python, Statistical Data Visualization)\n10. caret (R, Machine Learning)",
      "metadata": {}
    },
    {
      "cell_type": "markdown",
      "source": "|Data Science Tools|\n|:-----------------|\n|Jupyter Notebooks / JupyterLab|\n|RStudio|\n|VSCode (Visual Studio Code)|",
      "metadata": {}
    },
    {
      "cell_type": "markdown",
      "source": "### Below are a few examples of evaluating arithmetic expressions in Python.",
      "metadata": {}
    },
    {
      "cell_type": "code",
      "source": "# This is a simple arithmetic expression to multiply then add integers.\n(3*4)+5",
      "metadata": {
        "trusted": true
      },
      "outputs": [
        {
          "execution_count": 5,
          "output_type": "execute_result",
          "data": {
            "text/plain": "17"
          },
          "metadata": {}
        }
      ],
      "execution_count": 5
    },
    {
      "cell_type": "code",
      "source": "# This will convert 200 minutes to hours by diving by 60.\nhours = 200 / 60\nprint(hours)",
      "metadata": {
        "trusted": true
      },
      "outputs": [
        {
          "name": "stdout",
          "text": "3.3333333333333335\n",
          "output_type": "stream"
        }
      ],
      "execution_count": 6
    },
    {
      "cell_type": "markdown",
      "source": "## Author\nJoel Oliveras",
      "metadata": {}
    }
  ]
}